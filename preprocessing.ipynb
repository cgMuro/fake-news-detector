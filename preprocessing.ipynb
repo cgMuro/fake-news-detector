{
 "metadata": {
  "language_info": {
   "codemirror_mode": {
    "name": "ipython",
    "version": 3
   },
   "file_extension": ".py",
   "mimetype": "text/x-python",
   "name": "python",
   "nbconvert_exporter": "python",
   "pygments_lexer": "ipython3",
   "version": "3.8.5-final"
  },
  "orig_nbformat": 2,
  "kernelspec": {
   "name": "Python 3.8.5 64-bit ('venv')",
   "display_name": "Python 3.8.5 64-bit ('venv')",
   "metadata": {
    "interpreter": {
     "hash": "66cf8f905fad821513947daede062e89fb48d9ca7fc038d100cd54629c049942"
    }
   }
  }
 },
 "nbformat": 4,
 "nbformat_minor": 2,
 "cells": [
  {
   "cell_type": "code",
   "execution_count": 8,
   "metadata": {},
   "outputs": [],
   "source": [
    "import string\n",
    "import re\n",
    "import pandas as pd\n",
    "import nltk\n",
    "from nltk.tokenize import word_tokenize\n",
    "from nltk.corpus import stopwords"
   ]
  },
  {
   "cell_type": "code",
   "execution_count": 2,
   "metadata": {},
   "outputs": [
    {
     "output_type": "execute_result",
     "data": {
      "text/plain": [
       "                                                   title  \\\n",
       "0       Donald Trump Sends Out Embarrassing New Year’...   \n",
       "1       Drunk Bragging Trump Staffer Started Russian ...   \n",
       "2       Sheriff David Clarke Becomes An Internet Joke...   \n",
       "3       Trump Is So Obsessed He Even Has Obama’s Name...   \n",
       "4       Pope Francis Just Called Out Donald Trump Dur...   \n",
       "...                                                  ...   \n",
       "44273  State Department says it can't find emails fro...   \n",
       "44274  The ‘P’ in PBS Should Stand for ‘Plutocratic’ ...   \n",
       "44275  Anti-Trump Protesters Are Tools of the Oligarc...   \n",
       "44276  In Ethiopia, Obama seeks progress on peace, se...   \n",
       "44277  Jeb Bush Is Suddenly Attacking Trump. Here's W...   \n",
       "\n",
       "                                                    text  label  \n",
       "0      Donald Trump just couldn t wish all Americans ...      0  \n",
       "1      House Intelligence Committee Chairman Devin Nu...      0  \n",
       "2      On Friday, it was revealed that former Milwauk...      0  \n",
       "3      On Christmas day, Donald Trump announced that ...      0  \n",
       "4      Pope Francis used his annual Christmas Day mes...      0  \n",
       "...                                                  ...    ...  \n",
       "44273  The State Department told the Republican Natio...      1  \n",
       "44274  The ‘P’ in PBS Should Stand for ‘Plutocratic’ ...      0  \n",
       "44275   Anti-Trump Protesters Are Tools of the Oligar...      0  \n",
       "44276  ADDIS ABABA, Ethiopia —President Obama convene...      1  \n",
       "44277  Jeb Bush Is Suddenly Attacking Trump. Here's W...      1  \n",
       "\n",
       "[44278 rows x 3 columns]"
      ],
      "text/html": "<div>\n<style scoped>\n    .dataframe tbody tr th:only-of-type {\n        vertical-align: middle;\n    }\n\n    .dataframe tbody tr th {\n        vertical-align: top;\n    }\n\n    .dataframe thead th {\n        text-align: right;\n    }\n</style>\n<table border=\"1\" class=\"dataframe\">\n  <thead>\n    <tr style=\"text-align: right;\">\n      <th></th>\n      <th>title</th>\n      <th>text</th>\n      <th>label</th>\n    </tr>\n  </thead>\n  <tbody>\n    <tr>\n      <th>0</th>\n      <td>Donald Trump Sends Out Embarrassing New Year’...</td>\n      <td>Donald Trump just couldn t wish all Americans ...</td>\n      <td>0</td>\n    </tr>\n    <tr>\n      <th>1</th>\n      <td>Drunk Bragging Trump Staffer Started Russian ...</td>\n      <td>House Intelligence Committee Chairman Devin Nu...</td>\n      <td>0</td>\n    </tr>\n    <tr>\n      <th>2</th>\n      <td>Sheriff David Clarke Becomes An Internet Joke...</td>\n      <td>On Friday, it was revealed that former Milwauk...</td>\n      <td>0</td>\n    </tr>\n    <tr>\n      <th>3</th>\n      <td>Trump Is So Obsessed He Even Has Obama’s Name...</td>\n      <td>On Christmas day, Donald Trump announced that ...</td>\n      <td>0</td>\n    </tr>\n    <tr>\n      <th>4</th>\n      <td>Pope Francis Just Called Out Donald Trump Dur...</td>\n      <td>Pope Francis used his annual Christmas Day mes...</td>\n      <td>0</td>\n    </tr>\n    <tr>\n      <th>...</th>\n      <td>...</td>\n      <td>...</td>\n      <td>...</td>\n    </tr>\n    <tr>\n      <th>44273</th>\n      <td>State Department says it can't find emails fro...</td>\n      <td>The State Department told the Republican Natio...</td>\n      <td>1</td>\n    </tr>\n    <tr>\n      <th>44274</th>\n      <td>The ‘P’ in PBS Should Stand for ‘Plutocratic’ ...</td>\n      <td>The ‘P’ in PBS Should Stand for ‘Plutocratic’ ...</td>\n      <td>0</td>\n    </tr>\n    <tr>\n      <th>44275</th>\n      <td>Anti-Trump Protesters Are Tools of the Oligarc...</td>\n      <td>Anti-Trump Protesters Are Tools of the Oligar...</td>\n      <td>0</td>\n    </tr>\n    <tr>\n      <th>44276</th>\n      <td>In Ethiopia, Obama seeks progress on peace, se...</td>\n      <td>ADDIS ABABA, Ethiopia —President Obama convene...</td>\n      <td>1</td>\n    </tr>\n    <tr>\n      <th>44277</th>\n      <td>Jeb Bush Is Suddenly Attacking Trump. Here's W...</td>\n      <td>Jeb Bush Is Suddenly Attacking Trump. Here's W...</td>\n      <td>1</td>\n    </tr>\n  </tbody>\n</table>\n<p>44278 rows × 3 columns</p>\n</div>"
     },
     "metadata": {},
     "execution_count": 2
    }
   ],
   "source": [
    "# Import dataframe\n",
    "df = pd.read_csv('./dataset/fake_real_news/news.csv')\n",
    "df"
   ]
  },
  {
   "cell_type": "code",
   "execution_count": 3,
   "metadata": {},
   "outputs": [
    {
     "output_type": "execute_result",
     "data": {
      "text/plain": [
       "(44278, 3)"
      ]
     },
     "metadata": {},
     "execution_count": 3
    }
   ],
   "source": [
    "df.shape"
   ]
  },
  {
   "source": [
    "# Text Processing"
   ],
   "cell_type": "markdown",
   "metadata": {}
  },
  {
   "source": [
    "### Remove URLs"
   ],
   "cell_type": "markdown",
   "metadata": {}
  },
  {
   "cell_type": "code",
   "execution_count": 4,
   "metadata": {},
   "outputs": [
    {
     "output_type": "execute_result",
     "data": {
      "text/plain": [
       "(0        Donald Trump just couldn t wish all Americans ...\n",
       " 1        House Intelligence Committee Chairman Devin Nu...\n",
       " 2        On Friday, it was revealed that former Milwauk...\n",
       " 3        On Christmas day, Donald Trump announced that ...\n",
       " 4        Pope Francis used his annual Christmas Day mes...\n",
       "                                ...                        \n",
       " 44273    The State Department told the Republican Natio...\n",
       " 44274    The ‘P’ in PBS Should Stand for ‘Plutocratic’ ...\n",
       " 44275     Anti-Trump Protesters Are Tools of the Oligar...\n",
       " 44276    ADDIS ABABA, Ethiopia —President Obama convene...\n",
       " 44277    Jeb Bush Is Suddenly Attacking Trump. Here's W...\n",
       " Name: text, Length: 44278, dtype: object,\n",
       " 0         Donald Trump Sends Out Embarrassing New Year’...\n",
       " 1         Drunk Bragging Trump Staffer Started Russian ...\n",
       " 2         Sheriff David Clarke Becomes An Internet Joke...\n",
       " 3         Trump Is So Obsessed He Even Has Obama’s Name...\n",
       " 4         Pope Francis Just Called Out Donald Trump Dur...\n",
       "                                ...                        \n",
       " 44273    State Department says it can't find emails fro...\n",
       " 44274    The ‘P’ in PBS Should Stand for ‘Plutocratic’ ...\n",
       " 44275    Anti-Trump Protesters Are Tools of the Oligarc...\n",
       " 44276    In Ethiopia, Obama seeks progress on peace, se...\n",
       " 44277    Jeb Bush Is Suddenly Attacking Trump. Here's W...\n",
       " Name: title, Length: 44278, dtype: object)"
      ]
     },
     "metadata": {},
     "execution_count": 4
    }
   ],
   "source": [
    "# Remove urls\n",
    "df['text'] = df['text'].apply(lambda t: re.sub(r'http\\S+', '', str(t)))\n",
    "df['title'] = df['title'].apply(lambda t: re.sub(r'http\\S+', '', str(t)))\n",
    "(df['text'], df['title'])"
   ]
  },
  {
   "source": [
    "I kept the \"VIDEO\" thing because I think that it could be helpful since the presence of some kind of external resource may be a sign of real facts."
   ],
   "cell_type": "markdown",
   "metadata": {}
  },
  {
   "source": [
    "### Tokenize"
   ],
   "cell_type": "markdown",
   "metadata": {}
  },
  {
   "cell_type": "code",
   "execution_count": 5,
   "metadata": {},
   "outputs": [
    {
     "output_type": "execute_result",
     "data": {
      "text/plain": [
       "(0        [Donald, Trump, just, couldn, t, wish, all, Am...\n",
       " 1        [House, Intelligence, Committee, Chairman, Dev...\n",
       " 2        [On, Friday, ,, it, was, revealed, that, forme...\n",
       " 3        [On, Christmas, day, ,, Donald, Trump, announc...\n",
       " 4        [Pope, Francis, used, his, annual, Christmas, ...\n",
       "                                ...                        \n",
       " 44273    [The, State, Department, told, the, Republican...\n",
       " 44274    [The, ‘, P, ’, in, PBS, Should, Stand, for, ‘,...\n",
       " 44275    [Anti-Trump, Protesters, Are, Tools, of, the, ...\n",
       " 44276    [ADDIS, ABABA, ,, Ethiopia, —President, Obama,...\n",
       " 44277    [Jeb, Bush, Is, Suddenly, Attacking, Trump, .,...\n",
       " Name: text, Length: 44278, dtype: object,\n",
       " 0        [Donald, Trump, Sends, Out, Embarrassing, New,...\n",
       " 1        [Drunk, Bragging, Trump, Staffer, Started, Rus...\n",
       " 2        [Sheriff, David, Clarke, Becomes, An, Internet...\n",
       " 3        [Trump, Is, So, Obsessed, He, Even, Has, Obama...\n",
       " 4        [Pope, Francis, Just, Called, Out, Donald, Tru...\n",
       "                                ...                        \n",
       " 44273    [State, Department, says, it, ca, n't, find, e...\n",
       " 44274    [The, ‘, P, ’, in, PBS, Should, Stand, for, ‘,...\n",
       " 44275    [Anti-Trump, Protesters, Are, Tools, of, the, ...\n",
       " 44276    [In, Ethiopia, ,, Obama, seeks, progress, on, ...\n",
       " 44277    [Jeb, Bush, Is, Suddenly, Attacking, Trump, .,...\n",
       " Name: title, Length: 44278, dtype: object)"
      ]
     },
     "metadata": {},
     "execution_count": 5
    }
   ],
   "source": [
    "def tokenize(text):\n",
    "    return word_tokenize(text)\n",
    "\n",
    "\n",
    "df['text'] = df['text'].apply(tokenize)\n",
    "df['title'] = df['title'].apply(tokenize)\n",
    "\n",
    "(df['text'], df['title'])"
   ]
  },
  {
   "source": [
    "### Stopwords and Punctuation"
   ],
   "cell_type": "markdown",
   "metadata": {}
  },
  {
   "cell_type": "code",
   "execution_count": 6,
   "metadata": {},
   "outputs": [
    {
     "output_type": "execute_result",
     "data": {
      "text/plain": [
       "(0        [Donald, Trump, wish, Americans, Happy, New, Y...\n",
       " 1        [House, Intelligence, Committee, Chairman, Dev...\n",
       " 2        [Friday, revealed, former, Milwaukee, Sheriff,...\n",
       " 3        [Christmas, day, Donald, Trump, announced, wou...\n",
       " 4        [Pope, Francis, used, annual, Christmas, Day, ...\n",
       "                                ...                        \n",
       " 44273    [State, Department, told, Republican, National...\n",
       " 44274    [P, PBS, Stand, Plutocratic, Pentagon, Posted,...\n",
       " 44275    [Anti-Trump, Protesters, Tools, Oligarchy, Re...\n",
       " 44276    [ADDIS, ABABA, Ethiopia, —President, Obama, co...\n",
       " 44277    [Jeb, Bush, Suddenly, Attacking, Trump, 's, Ma...\n",
       " Name: text, Length: 44278, dtype: object,\n",
       " 0        [Donald, Trump, Sends, Embarrassing, New, Year...\n",
       " 1        [Drunk, Bragging, Trump, Staffer, Started, Rus...\n",
       " 2        [Sheriff, David, Clarke, Becomes, Internet, Jo...\n",
       " 3        [Trump, Obsessed, Even, Obama, Name, Coded, We...\n",
       " 4        [Pope, Francis, Called, Donald, Trump, Christm...\n",
       "                                ...                        \n",
       " 44273    [State, Department, says, ca, n't, find, email...\n",
       " 44274               [P, PBS, Stand, Plutocratic, Pentagon]\n",
       " 44275    [Anti-Trump, Protesters, Tools, Oligarchy, Inf...\n",
       " 44276    [Ethiopia, Obama, seeks, progress, peace, secu...\n",
       " 44277    [Jeb, Bush, Suddenly, Attacking, Trump, 's, Ma...\n",
       " Name: title, Length: 44278, dtype: object)"
      ]
     },
     "metadata": {},
     "execution_count": 6
    }
   ],
   "source": [
    "stop_words = set(stopwords.words('english'))\n",
    "punctuation = list(string.punctuation)\n",
    "# Add punctuation and specific characters to the stopwords\n",
    "stop_words.update(punctuation)\n",
    "stop_words.update('‘')\n",
    "stop_words.update('’')\n",
    "# stop_words.update('“')\n",
    "# stop_words.update('”')\n",
    "\n",
    "def clean(text):\n",
    "    return [w for w in text if w.strip().lower() not in stop_words]\n",
    "\n",
    "df['text'] = df['text'].apply(clean)\n",
    "df['title'] = df['title'].apply(clean)\n",
    "\n",
    "(df['text'], df['title'])"
   ]
  },
  {
   "source": [
    "## Export the model"
   ],
   "cell_type": "markdown",
   "metadata": {}
  },
  {
   "cell_type": "code",
   "execution_count": 7,
   "metadata": {},
   "outputs": [],
   "source": [
    "df.to_csv('./dataset/news_processed.csv', index=False)"
   ]
  }
 ]
}